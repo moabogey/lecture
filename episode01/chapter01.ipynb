{
 "cells": [
  {
   "cell_type": "markdown",
   "metadata": {},
   "source": [
    "# Chapter 01. 사이트 HTML 가져오기\n",
    "### 목표: requests와 BeautifulSoup를 이용하여 사이트의 HTML을 가져오고 파일로 저장한다."
   ]
  },
  {
   "cell_type": "markdown",
   "metadata": {},
   "source": [
    "## 1. 필요한 모듈 임포트(import)\n",
    "\n",
    "**미션** : requests와 BeautifulSoup 모듈을 임포트한다."
   ]
  },
  {
   "cell_type": "code",
   "execution_count": null,
   "metadata": {},
   "outputs": [],
   "source": []
  },
  {
   "cell_type": "markdown",
   "metadata": {},
   "source": [
    "## 2. 사이트 웹 주소 설정\n",
    "\n",
    "**미션** : \n",
    "1. BTS ARMY 트윗 웹 주소(https://twitter.com/BTS_ARMY)를 변수에 저장한다.\n",
    "2. 변수를 출력한다."
   ]
  },
  {
   "cell_type": "code",
   "execution_count": null,
   "metadata": {},
   "outputs": [],
   "source": []
  },
  {
   "cell_type": "markdown",
   "metadata": {},
   "source": [
    "## 3. Requests\n",
    "**미션** : 사이트 정보를 가져오고 응답의 상태 코드를 출력한다."
   ]
  },
  {
   "cell_type": "code",
   "execution_count": null,
   "metadata": {},
   "outputs": [],
   "source": []
  },
  {
   "cell_type": "markdown",
   "metadata": {},
   "source": [
    "## 4. BeautifulSoup 객체(Object) 변환\n",
    "**미션**: \n",
    "1. 가져온 사이트 정보에서 HTML 텍스트를 변수에 저장하고, \n",
    "2. BeautifulSoup의 객체로 변환하고, \n",
    "3. 타이틀(`<title>BTS A.R.M.Y(@BTS_ARMY) 님 | 트위터</title>`)을 출력한다."
   ]
  },
  {
   "cell_type": "code",
   "execution_count": null,
   "metadata": {},
   "outputs": [],
   "source": []
  },
  {
   "cell_type": "markdown",
   "metadata": {},
   "source": [
    "## 5. 파일로 저장\n",
    "**미션**: \n",
    "1. `chapter01.html`이름으로 사이트의 HTML을 저장한다.\n",
    "2. 저장된 파일을 텍스트 에디터로 불러서 확인한다."
   ]
  },
  {
   "cell_type": "code",
   "execution_count": null,
   "metadata": {},
   "outputs": [],
   "source": []
  }
 ],
 "metadata": {
  "kernelspec": {
   "display_name": "Python 3",
   "language": "python",
   "name": "python3"
  },
  "language_info": {
   "codemirror_mode": {
    "name": "ipython",
    "version": 3
   },
   "file_extension": ".py",
   "mimetype": "text/x-python",
   "name": "python",
   "nbconvert_exporter": "python",
   "pygments_lexer": "ipython3",
   "version": "3.6.8"
  }
 },
 "nbformat": 4,
 "nbformat_minor": 2
}
