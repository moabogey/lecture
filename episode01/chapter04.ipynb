{
 "cells": [
  {
   "cell_type": "markdown",
   "metadata": {},
   "source": [
    "# Chapter 04. 포스트 HTML 저장하기\n",
    "### 목표: 포스트 목록에서 수집한 포스트 주소의 HTML을 가져오고 저장한다."
   ]
  },
  {
   "cell_type": "markdown",
   "metadata": {},
   "source": [
    "## Chapter03 코드"
   ]
  },
  {
   "cell_type": "code",
   "execution_count": null,
   "metadata": {},
   "outputs": [],
   "source": [
    "import requests\n",
    "from bs4 import BeautifulSoup\n",
    "from datetime import datetime\n",
    "\n",
    "site_url = 'https://twitter.com/BTS_ARMY'\n",
    "response = requests.get(site_url)\n",
    "print('status code: ', response.status_code)\n",
    "\n",
    "post = None # None is not True\n",
    "if(response.status_code == requests.codes.ok):\n",
    "    html_source = response.text\n",
    "    soup = BeautifulSoup(html_source, 'html.parser')\n",
    "    print(soup.title)\n",
    "    post = soup.find('div', class_='content') # <div class=\"content\"> ... </div>\n",
    "    \n",
    "    createdBy = post.find('strong', class_='fullname').text.strip()\n",
    "    print(createdBy)\n",
    "    \n",
    "    href = post.find('a', {\"class\": \"tweet-timestamp\", \"href\": True})['href']\n",
    "    href_full = 'https://twitter.com' + href\n",
    "    print(href_full)\n",
    "    \n",
    "    post_time = post.find('a', class_=\"tweet-timestamp\")['title']\n",
    "    post_time = post_time.replace('오전', 'AM').replace('오후', 'PM')\n",
    "    createdAt = datetime.strptime(post_time, '%p %I:%M - %Y년 %m월 %d일')\n",
    "    print(createdAt)\n",
    "else:\n",
    "    print('error: ', response.status_code)"
   ]
  },
  {
   "cell_type": "markdown",
   "metadata": {},
   "source": [
    "## 포스트 웹 주소 설정\n",
    "**미션** : \n",
    "1. 첫번째 포스트 웹 주소를 변수에 저장한다.\n",
    "2. 변수를 출력한다."
   ]
  },
  {
   "cell_type": "code",
   "execution_count": null,
   "metadata": {},
   "outputs": [],
   "source": []
  },
  {
   "cell_type": "markdown",
   "metadata": {},
   "source": [
    "## 3. Requests\n",
    "**미션** : 사이트 정보를 가져오고 응답의 상태 코드를 출력한다."
   ]
  },
  {
   "cell_type": "code",
   "execution_count": null,
   "metadata": {},
   "outputs": [],
   "source": []
  },
  {
   "cell_type": "markdown",
   "metadata": {},
   "source": [
    "## 4. BeautifulSoup 객체(Object) 변환\n",
    "**미션**: \n",
    "1. 가져온 사이트 정보에서 HTML 텍스트를 변수에 저장하고, \n",
    "2. BeautifulSoup의 객체로 변환하고, \n",
    "3. 타이틀을 출력한다."
   ]
  },
  {
   "cell_type": "code",
   "execution_count": null,
   "metadata": {},
   "outputs": [],
   "source": []
  },
  {
   "cell_type": "markdown",
   "metadata": {},
   "source": [
    "## 5. 파일로 저장\n",
    "**미션**: \n",
    "1. `chapter01_post.html`이름으로 사이트의 HTML을 저장한다.\n",
    "2. 저장된 파일을 텍스트 에디터로 불러서 확인한다."
   ]
  },
  {
   "cell_type": "code",
   "execution_count": null,
   "metadata": {},
   "outputs": [],
   "source": []
  }
 ],
 "metadata": {
  "kernelspec": {
   "display_name": "Python 3",
   "language": "python",
   "name": "python3"
  },
  "language_info": {
   "codemirror_mode": {
    "name": "ipython",
    "version": 3
   },
   "file_extension": ".py",
   "mimetype": "text/x-python",
   "name": "python",
   "nbconvert_exporter": "python",
   "pygments_lexer": "ipython3",
   "version": "3.6.8"
  }
 },
 "nbformat": 4,
 "nbformat_minor": 2
}
