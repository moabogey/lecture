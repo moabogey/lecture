{
 "cells": [
  {
   "cell_type": "markdown",
   "metadata": {},
   "source": [
    "# Chapter 05. 포스트에서 데이터 수집\n",
    "### 목표: 첫번째 포스트에서 포스트 제목, 요약, 이미지, 사이트 이름 및 수집한 날짜를 수집한다."
   ]
  },
  {
   "cell_type": "markdown",
   "metadata": {},
   "source": [
    "## Chapter04 코드"
   ]
  },
  {
   "cell_type": "code",
   "execution_count": null,
   "metadata": {},
   "outputs": [],
   "source": [
    "import requests\n",
    "from bs4 import BeautifulSoup\n",
    "from datetime import datetime\n",
    "\n",
    "site_url = 'https://twitter.com/BTS_ARMY'\n",
    "response = requests.get(site_url)\n",
    "print('status code: ', response.status_code)\n",
    "\n",
    "post = None # None is not True\n",
    "if(response.status_code == requests.codes.ok):\n",
    "    html_source = response.text\n",
    "    soup = BeautifulSoup(html_source, 'html.parser')\n",
    "    print(soup.title)\n",
    "    post = soup.find('div', class_='content') # <div class=\"content\"> ... </div>\n",
    "    \n",
    "    createdBy = post.find('strong', class_='fullname').text.strip()\n",
    "    print(createdBy)\n",
    "    \n",
    "    href = post.find('a', {\"class\": \"tweet-timestamp\", \"href\": True})['href']\n",
    "    href_full = 'https://twitter.com' + href\n",
    "    print(href_full)\n",
    "    \n",
    "    post_time = post.find('a', class_=\"tweet-timestamp\")['title']\n",
    "    post_time = post_time.replace('오전', 'AM').replace('오후', 'PM')\n",
    "    createdAt = datetime.strptime(post_time, '%p %I:%M - %Y년 %m월 %d일')\n",
    "    print(createdAt)\n",
    "    \n",
    "    post_url = href_full\n",
    "    res = requests.get(post_url)\n",
    "    print(res.status_code)\n",
    "    \n",
    "    post = None # None is not True\n",
    "    if(res.status_code == requests.codes.ok):\n",
    "        post_source = res.text\n",
    "        post = BeautifulSoup(post_source, 'html.parser')\n",
    "        print(post.title)\n",
    "else:\n",
    "    print('error: ', response.status_code)"
   ]
  },
  {
   "cell_type": "markdown",
   "metadata": {},
   "source": [
    "## 1. 포스트 제목 찾기\n",
    "**미션**: \n",
    "1. 포스트의 제목을 찾아서 출력한다.\n",
    "2. 포스트 제목은 `<meta content=... property=\"og:description\"/>`를 찾은 이후에 content의 내용 중에 첫째줄로 정한다."
   ]
  },
  {
   "cell_type": "code",
   "execution_count": null,
   "metadata": {},
   "outputs": [],
   "source": []
  },
  {
   "cell_type": "markdown",
   "metadata": {},
   "source": [
    "## 2. 포스트 요약 찾기\n",
    "**미션**:\n",
    "1. 포스트의 요약을 찾아서 출력한다.\n",
    "2. 포스트 요약은 `<meta content=... property=\"og:description\"/>`를 찾은 이후에 content의 내용 중에 둘째줄 부터 정한다."
   ]
  },
  {
   "cell_type": "code",
   "execution_count": null,
   "metadata": {},
   "outputs": [],
   "source": []
  },
  {
   "cell_type": "markdown",
   "metadata": {},
   "source": [
    "## 3. 포스트 이미지 찾기\n",
    "**미션**: \n",
    "1. 포스트의 이미지 주소를 찾아서 주소를 출력한다.\n",
    "2. 포스트 이미지는 `<meta content=... property=\"og:image\"/>`의 content 값이다."
   ]
  },
  {
   "cell_type": "code",
   "execution_count": null,
   "metadata": {},
   "outputs": [],
   "source": []
  },
  {
   "cell_type": "markdown",
   "metadata": {},
   "source": [
    "## 4. 포스트를 볼 수 있는 사이트 이름 찾기\n",
    "**미션**: \n",
    "1. 사이트 이름을 찾아서 출력한다.\n",
    "2. 사이트 이름은 `<meta content=... property=\"og:site_name\"/>`의 content 값이다."
   ]
  },
  {
   "cell_type": "code",
   "execution_count": null,
   "metadata": {},
   "outputs": [],
   "source": []
  },
  {
   "cell_type": "markdown",
   "metadata": {},
   "source": [
    "## 5. 포스트를 수집한 지금 날짜와 시간 찾기\n",
    "**미션**: 포스트를 수집하는 지금 날짜와 시간을 찾아서 출력한다."
   ]
  },
  {
   "cell_type": "code",
   "execution_count": null,
   "metadata": {},
   "outputs": [],
   "source": []
  }
 ],
 "metadata": {
  "kernelspec": {
   "display_name": "Python 3",
   "language": "python",
   "name": "python3"
  },
  "language_info": {
   "codemirror_mode": {
    "name": "ipython",
    "version": 3
   },
   "file_extension": ".py",
   "mimetype": "text/x-python",
   "name": "python",
   "nbconvert_exporter": "python",
   "pygments_lexer": "ipython3",
   "version": "3.6.8"
  }
 },
 "nbformat": 4,
 "nbformat_minor": 2
}
