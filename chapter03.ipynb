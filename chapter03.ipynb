{
 "cells": [
  {
   "cell_type": "markdown",
   "metadata": {},
   "source": [
    "# Chapter 03. 포스트 목록에서 데이터 수집\n",
    "### 목표: 첫번째 포스트 목록에서 포스트 작성자, 포스트 주소 및 올린 날짜를 수집한다."
   ]
  },
  {
   "cell_type": "markdown",
   "metadata": {},
   "source": [
    "## Chapter02 코드"
   ]
  },
  {
   "cell_type": "code",
   "execution_count": null,
   "metadata": {},
   "outputs": [],
   "source": [
    "import requests\n",
    "from bs4 import BeautifulSoup\n",
    "\n",
    "site_url = 'https://twitter.com/BTS_ARMY'\n",
    "response = requests.get(site_url)\n",
    "print('status code: ', response.status_code)\n",
    "\n",
    "post = None # None is not True\n",
    "if(response.status_code == requests.codes.ok):\n",
    "    html_source = response.text\n",
    "    soup = BeautifulSoup(html_source, 'html.parser')\n",
    "    print(soup.title)\n",
    "    post = soup.find('div', class_='content') # <div class=\"content\"> ... </div>\n",
    "else:\n",
    "    print('error: ', response.status_code)"
   ]
  },
  {
   "cell_type": "markdown",
   "metadata": {},
   "source": [
    "## 1. 포스트 작성자\n",
    "**미션**: 포스트 작성자가 표시된 태그를 찾고 작성자를 출력한다."
   ]
  },
  {
   "cell_type": "code",
   "execution_count": null,
   "metadata": {},
   "outputs": [],
   "source": []
  },
  {
   "cell_type": "markdown",
   "metadata": {},
   "source": [
    "## 2. 포스트 주소\n",
    "**미션**: 포스트의 웹주소를 찾고 웹주소를 출력한다."
   ]
  },
  {
   "cell_type": "code",
   "execution_count": null,
   "metadata": {},
   "outputs": [],
   "source": []
  },
  {
   "cell_type": "markdown",
   "metadata": {},
   "source": [
    "## 3. 포스트 올린 날짜\n",
    "**미션**: \n",
    "1. 포스트를 올린 날짜를 찾는다.\n",
    "2. 날짜를 datetime으로 변환한다.\n",
    "3. 날짜를 출력한다."
   ]
  },
  {
   "cell_type": "code",
   "execution_count": null,
   "metadata": {},
   "outputs": [],
   "source": []
  }
 ],
 "metadata": {
  "kernelspec": {
   "display_name": "Python 3",
   "language": "python",
   "name": "python3"
  },
  "language_info": {
   "codemirror_mode": {
    "name": "ipython",
    "version": 3
   },
   "file_extension": ".py",
   "mimetype": "text/x-python",
   "name": "python",
   "nbconvert_exporter": "python",
   "pygments_lexer": "ipython3",
   "version": "3.6.8"
  }
 },
 "nbformat": 4,
 "nbformat_minor": 2
}
