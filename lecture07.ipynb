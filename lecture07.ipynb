{
 "cells": [
  {
   "cell_type": "markdown",
   "metadata": {},
   "source": [
    "# Lecture 07. 모아보기 데이터 수집\n",
    "### 목표: 포스트 목록(20개)에서 모아보기에서 필요한 데이터를 수집한다."
   ]
  },
  {
   "cell_type": "markdown",
   "metadata": {},
   "source": [
    "## 포스트 목록(20개)에 대한 데이터 수집\n",
    "**미션**: \n",
    "1. for-루프를 사용해서 모든 포스트에 대한 데이터를 수집한다.\n",
    "2. 포스트 주소가 존재하는지 확인하는 코드를 추가한다."
   ]
  },
  {
   "cell_type": "code",
   "execution_count": null,
   "metadata": {
    "scrolled": false
   },
   "outputs": [],
   "source": [
    "import requests\n",
    "from bs4 import BeautifulSoup\n",
    "\n",
    "from datetime import datetime\n",
    "from datetime import timedelta\n",
    "\n",
    "import moabogey_database as moabogey\n",
    "from moabogey_id import *\n",
    "\n",
    "site_url = 'https://twitter.com/BTS_ARMY'\n",
    "response = requests.get(site_url)\n",
    "print('status code: ', response.status_code)\n",
    "\n",
    "if(response.status_code == requests.codes.ok):\n",
    "    html_source = response.text\n",
    "    soup = BeautifulSoup(html_source, 'html.parser')\n",
    "    \n",
    "    db_name = 'lecture07'\n",
    "    my_db = moabogey.Dbase(db_name, bot_id)\n",
    "    \n",
    "    for post in soup.find_all('div', class_='content'):\n",
    "        href = post.find('a', {\"class\": \"tweet-timestamp\", \"href\": True})\n",
    "        if href:\n",
    "            href_full = 'https://twitter.com' + href['href']            \n",
    "            createdBy = post.find('strong', class_='fullname').text.strip()  \n",
    "            post_time = post.find('a', class_=\"tweet-timestamp\")['title']\n",
    "            post_time = post_time.replace('오전', 'AM').replace('오후', 'PM')\n",
    "            createdAt = datetime.strptime(post_time, '%p %I:%M - %Y년 %m월 %d일')\n",
    "\n",
    "            post_url = href_full\n",
    "            res = requests.get(post_url)\n",
    "\n",
    "            if(res.status_code == requests.codes.ok):\n",
    "                post_source = res.text\n",
    "                post = BeautifulSoup(post_source, 'html.parser')\n",
    "\n",
    "                title = post.find('meta', property=\"og:description\")\n",
    "                title = title['content'].splitlines()[0]\n",
    "                desc = post.find('meta', property=\"og:description\")\n",
    "                desc = ''.join(desc['content'].splitlines()[1:])\n",
    "                image = post.find('meta', property=\"og:image\")['content']\n",
    "                site_name = post.find('meta', property=\"og:site_name\")['content']\n",
    "                timeStamp = datetime.now() \n",
    "                \n",
    "                delta = timeStamp - createdAt\n",
    "                if delta.days <= 0:\n",
    "                    if my_db.isNewItem('title', title):\n",
    "                        db_data = { 'title': title, 'desc': desc, 'url': href_full, 'image': image, 'siteName':site_name,\n",
    "                                            'createdBy': createdBy, 'createdAt': createdAt, 'timeStamp': timeStamp }\n",
    "                        my_db.insertTable(db_data)          \n",
    "            else:\n",
    "                print('error: ', res.status_code) \n",
    "    my_db.displayHTML()  \n",
    "    my_db.close()\n",
    "else:\n",
    "    print('error: ', response.status_code)"
   ]
  }
 ],
 "metadata": {
  "kernelspec": {
   "display_name": "Python 3",
   "language": "python",
   "name": "python3"
  },
  "language_info": {
   "codemirror_mode": {
    "name": "ipython",
    "version": 3
   },
   "file_extension": ".py",
   "mimetype": "text/x-python",
   "name": "python",
   "nbconvert_exporter": "python",
   "pygments_lexer": "ipython3",
   "version": "3.6.8"
  }
 },
 "nbformat": 4,
 "nbformat_minor": 2
}
