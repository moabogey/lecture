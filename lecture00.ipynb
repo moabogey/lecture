{
 "cells": [
  {
   "cell_type": "markdown",
   "metadata": {},
   "source": [
    "# Lecture 00. \n",
    "### 목표: 실습에 필요한 소프트웨어를 설치하고 강의 노트북을 실행한다."
   ]
  },
  {
   "cell_type": "markdown",
   "metadata": {},
   "source": [
    "## 1. 아나콘다(Anaconda) 및 깃(Git) 설치\n",
    "**미션**: \n",
    "1. 아나콘다와 깃을 설치한다.\n",
    "2. [개발환경만들기](https://github.com/moabogey/docs/wiki/%EA%B0%9C%EB%B0%9C%ED%99%98%EA%B2%BD%EB%A7%8C%EB%93%A4%EA%B8%B0) 가이드에 따라서 설치한다. "
   ]
  },
  {
   "cell_type": "markdown",
   "metadata": {},
   "source": [
    "## 2. 강의 노트북 다운로드\n",
    "**미션**: \n",
    "1. 주피터 노트북으로 작성된 강의 노트북을 다운로드한다. \n",
    "2. 깃 주소는 `https://github.com/moabogey/lecture.git` 이다."
   ]
  },
  {
   "cell_type": "markdown",
   "metadata": {},
   "source": [
    "## 주피터 노트북 실행\n",
    "**미션**: \n",
    "1. moabogey환경으로 설정하고 주피터 노트북을 실행한다.\n",
    "2. 강의 노트북을 실행한다."
   ]
  }
 ],
 "metadata": {
  "kernelspec": {
   "display_name": "Python 3",
   "language": "python",
   "name": "python3"
  },
  "language_info": {
   "codemirror_mode": {
    "name": "ipython",
    "version": 3
   },
   "file_extension": ".py",
   "mimetype": "text/x-python",
   "name": "python",
   "nbconvert_exporter": "python",
   "pygments_lexer": "ipython3",
   "version": "3.6.8"
  }
 },
 "nbformat": 4,
 "nbformat_minor": 2
}
