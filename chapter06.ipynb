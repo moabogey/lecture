{
 "cells": [
  {
   "cell_type": "markdown",
   "metadata": {},
   "source": [
    "# Chapter 06. 모아보기 모듈 사용\n",
    "### 목표: 모아보기 모듈을 사용하여 데이터를 수집한다."
   ]
  },
  {
   "cell_type": "markdown",
   "metadata": {},
   "source": [
    "## Chapter05 코드"
   ]
  },
  {
   "cell_type": "code",
   "execution_count": null,
   "metadata": {},
   "outputs": [],
   "source": [
    "import requests\n",
    "from bs4 import BeautifulSoup\n",
    "from datetime import datetime\n",
    "\n",
    "site_url = 'https://twitter.com/BTS_ARMY'\n",
    "response = requests.get(site_url)\n",
    "print('status code: ', response.status_code)\n",
    "\n",
    "if(response.status_code == requests.codes.ok):\n",
    "    html_source = response.text\n",
    "    soup = BeautifulSoup(html_source, 'html.parser')\n",
    "    print(soup.title)\n",
    "    post = soup.find('div', class_='content') # <div class=\"content\"> ... </div>\n",
    "    \n",
    "    createdBy = post.find('strong', class_='fullname').text.strip()\n",
    "    print(createdBy)\n",
    "    \n",
    "    href = post.find('a', {\"class\": \"tweet-timestamp\", \"href\": True})['href']\n",
    "    href_full = 'https://twitter.com' + href\n",
    "    print(href_full)\n",
    "    \n",
    "    post_time = post.find('a', class_=\"tweet-timestamp\")['title']\n",
    "    post_time = post_time.replace('오전', 'AM').replace('오후', 'PM')\n",
    "    createdAt = datetime.strptime(post_time, '%p %I:%M - %Y년 %m월 %d일')\n",
    "    print(createdAt)\n",
    "    \n",
    "    post_url = href_full\n",
    "    res = requests.get(post_url)\n",
    "    print(res.status_code)\n",
    "    \n",
    "    post = None # None is not True\n",
    "    if(res.status_code == requests.codes.ok):\n",
    "        post_source = res.text\n",
    "        post = BeautifulSoup(post_source, 'html.parser')\n",
    "        print(post.title)\n",
    "        \n",
    "        title = post.find('meta', property=\"og:description\")\n",
    "        title = title['content'].splitlines()[0]\n",
    "        print(title)\n",
    "        \n",
    "        desc = post.find('meta', property=\"og:description\")\n",
    "        desc = ''.join(desc['content'].splitlines()[1:])\n",
    "        print(desc)\n",
    "        \n",
    "        image = post.find('meta', property=\"og:image\")['content']\n",
    "        print(image)\n",
    "        \n",
    "        site_name = post.find('meta', property=\"og:site_name\")['content']\n",
    "        print(site_name)\n",
    "        \n",
    "        timeStamp = datetime.now()\n",
    "        print(timeStamp)\n",
    "else:\n",
    "    print('error: ', response.status_code)"
   ]
  },
  {
   "cell_type": "markdown",
   "metadata": {},
   "source": [
    "## 1. 모아보기 모듈 임포트(import)\n",
    "**미션**: \n",
    "1. 모아보기 데이터베이스 모듈을 import 한다.\n",
    "2. 모아보기 id 모듈을 import 한다."
   ]
  },
  {
   "cell_type": "code",
   "execution_count": null,
   "metadata": {
    "scrolled": false
   },
   "outputs": [],
   "source": []
  },
  {
   "cell_type": "markdown",
   "metadata": {},
   "source": [
    "## 2. 24시간 이전에 발행된 포스트만 수집한다.\n",
    "**미션**: \n",
    "1. 수집한 날짜에서 포스트를 올린 시간을 뺀다.\n",
    "2. 차이가 몇일인지 출력한다."
   ]
  },
  {
   "cell_type": "code",
   "execution_count": null,
   "metadata": {
    "scrolled": true
   },
   "outputs": [],
   "source": []
  },
  {
   "cell_type": "markdown",
   "metadata": {},
   "source": [
    "## 데이터베이스에 저장하기\n",
    "**미션**:\n",
    "1. 모아보기 데이터베이스를 생성한다. 데이터베이스 이름은 `chapter06`이다.\n",
    "2. 24시간 이전에 만들어진 포스트인지 확인한다.\n",
    "3. 데이터베이스에 있는 데이터와 중복되는지 확인한다.\n",
    "4. JSON형식으로 데이터베이스를 변환한다.\n",
    "5. 데이터베이스에 저장한다.\n",
    "6. 저장된 데이터베이스를 카드 형태로 출력한다.\n",
    "7. 데이터베이스를 닫는다."
   ]
  },
  {
   "cell_type": "code",
   "execution_count": null,
   "metadata": {},
   "outputs": [],
   "source": []
  }
 ],
 "metadata": {
  "kernelspec": {
   "display_name": "Python 3",
   "language": "python",
   "name": "python3"
  },
  "language_info": {
   "codemirror_mode": {
    "name": "ipython",
    "version": 3
   },
   "file_extension": ".py",
   "mimetype": "text/x-python",
   "name": "python",
   "nbconvert_exporter": "python",
   "pygments_lexer": "ipython3",
   "version": "3.6.8"
  }
 },
 "nbformat": 4,
 "nbformat_minor": 2
}
