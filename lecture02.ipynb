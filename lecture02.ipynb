{
 "cells": [
  {
   "cell_type": "markdown",
   "metadata": {},
   "source": [
    "# Lecture 02. 포스트 목록 찾기\n",
    "### 목표: 포스트의 목록을 찾는다."
   ]
  },
  {
   "cell_type": "markdown",
   "metadata": {},
   "source": [
    "## Lecture01 코드"
   ]
  },
  {
   "cell_type": "code",
   "execution_count": null,
   "metadata": {},
   "outputs": [],
   "source": [
    "import requests\n",
    "from bs4 import BeautifulSoup\n",
    "\n",
    "site_url = 'https://twitter.com/BTS_ARMY'\n",
    "response = requests.get(site_url)\n",
    "print('status code: ', response.status_code)\n",
    "\n",
    "soup = None # None is not True\n",
    "if(response.status_code == requests.codes.ok):\n",
    "    html_source = response.text\n",
    "    soup = BeautifulSoup(html_source, 'html.parser')\n",
    "    print(soup.title)\n",
    "else:\n",
    "    print('error: ', response.status_code)"
   ]
  },
  {
   "cell_type": "markdown",
   "metadata": {},
   "source": [
    "## 첫번째 포스트 찾기\n",
    "**미션**:\n",
    "1. 포스트 목록을 구분하는 태그를 찾는다.\n",
    "2. 첫번째 포스트를 출력한다."
   ]
  },
  {
   "cell_type": "code",
   "execution_count": null,
   "metadata": {
    "scrolled": false
   },
   "outputs": [],
   "source": []
  }
 ],
 "metadata": {
  "kernelspec": {
   "display_name": "Python 3",
   "language": "python",
   "name": "python3"
  },
  "language_info": {
   "codemirror_mode": {
    "name": "ipython",
    "version": 3
   },
   "file_extension": ".py",
   "mimetype": "text/x-python",
   "name": "python",
   "nbconvert_exporter": "python",
   "pygments_lexer": "ipython3",
   "version": "3.6.8"
  }
 },
 "nbformat": 4,
 "nbformat_minor": 2
}
